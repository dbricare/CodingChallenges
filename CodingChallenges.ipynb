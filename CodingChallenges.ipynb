{
 "cells": [
  {
   "cell_type": "markdown",
   "metadata": {},
   "source": [
    "# Hackerrank Coding Challenges\n",
    "\n",
    "https://www.hackerrank.com\n"
   ]
  },
  {
   "cell_type": "code",
   "execution_count": 24,
   "metadata": {
    "collapsed": false
   },
   "outputs": [
    {
     "data": {
      "text/plain": [
       "[2, 1, 3, 4, 0]"
      ]
     },
     "execution_count": 24,
     "metadata": {},
     "output_type": "execute_result"
    }
   ],
   "source": [
    "# grid challenge\n",
    "\n",
    "T=1\n",
    "N=5\n",
    "n1 = ['ebacd',\n",
    "'fghij',\n",
    "'olmkn',\n",
    "'trpqs',\n",
    "'xywuv']\n",
    "\n",
    "from collections import OrderedDict\n",
    "# sort first row\n",
    "d1 = OrderedDict([(v,k) for k,v in enumerate(n1[0])])\n",
    "d1 = sorted(d1.items())\n",
    "idx = [item[1] for item in d1]\n",
    "# rearrange all columns\n",
    "# check all rows and columns lexographically sorted"
   ]
  }
 ],
 "metadata": {
  "kernelspec": {
   "display_name": "Python 3",
   "language": "python",
   "name": "python3"
  },
  "language_info": {
   "codemirror_mode": {
    "name": "ipython",
    "version": 3
   },
   "file_extension": ".py",
   "mimetype": "text/x-python",
   "name": "python",
   "nbconvert_exporter": "python",
   "pygments_lexer": "ipython3",
   "version": "3.5.2"
  }
 },
 "nbformat": 4,
 "nbformat_minor": 1
}
